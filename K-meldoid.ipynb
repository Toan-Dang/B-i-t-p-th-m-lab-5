{
 "cells": [
  {
   "cell_type": "code",
   "execution_count": 1,
   "metadata": {},
   "outputs": [],
   "source": [
    "import matplotlib.pyplot as plt\n",
    "import numpy as np\n",
    "from sklearn_extra.cluster import KMedoids\n"
   ]
  },
  {
   "cell_type": "code",
   "execution_count": 2,
   "metadata": {},
   "outputs": [],
   "source": [
    "# — — — — — — -Assigning Initial Centers — — — — — — — — — — — -\n",
    "centers = [[4, 5], [9, 10]]"
   ]
  },
  {
   "cell_type": "code",
   "execution_count": 3,
   "metadata": {},
   "outputs": [],
   "source": [
    "# — — — — — — -Assigning Data: Dummy Data used in example above — — — — — — — — — — — — — — — — — — \n",
    "df=np.array([[7,8], [9,10], [11,5], [4,9], [7,5], [2,3], [4,5]])"
   ]
  },
  {
   "cell_type": "code",
   "execution_count": 4,
   "metadata": {},
   "outputs": [],
   "source": [
    "# — — — — — — -Fit KMedoids clustering — — — — — — — — — — — -\n",
    "KMobj = KMedoids(n_clusters=2).fit(df)"
   ]
  },
  {
   "cell_type": "code",
   "execution_count": 5,
   "metadata": {},
   "outputs": [],
   "source": [
    "# — — — — — — -Assigning Cluster Labels — — — — — — — — — — — -\n",
    "labels = KMobj.labels_"
   ]
  },
  {
   "cell_type": "code",
   "execution_count": 6,
   "metadata": {},
   "outputs": [],
   "source": [
    "# — — — — — — -Extracting Unique Labels — — — — — — — — — — — -\n",
    "unq_lab = set(labels)\n",
    "# — — — — — — -Setting Up Color Codes — — — — — — — — — — — -\n",
    "colors_plot = [\n",
    " plt.cm.Spectral(each) for each in np.linspace(0, 1, len(unq_lab))\n",
    "]\n",
    "for k, col in zip(unq_lab, colors_plot):\n",
    "    class_member_mask = labels == k\n",
    " \n",
    " # — — — — — — -Setting datapoint Feature X and Feature Y — — — — — — — — — — — -\n",
    "    xy = df[class_member_mask]\n",
    " \n",
    "\n",
    " \n",
    " "
   ]
  },
  {
   "cell_type": "code",
   "execution_count": 7,
   "metadata": {},
   "outputs": [
    {
     "data": {
      "text/plain": [
       "Text(0.5, 1.0, 'KMedoids clustering on Dummy Data- Medoids are represented in Orange.')"
      ]
     },
     "execution_count": 7,
     "metadata": {},
     "output_type": "execute_result"
    },
    {
     "data": {
      "image/png": "[encoded data removed]",
      "text/plain": [
       "<Figure size 432x288 with 1 Axes>"
      ]
     },
     "metadata": {
      "needs_background": "light"
     },
     "output_type": "display_data"
    }
   ],
   "source": [
    "plt.plot(\n",
    "    xy[:, 0],\n",
    "    xy[:, 1],\n",
    "    \"o\",\n",
    "    markerfacecolor=tuple(col),\n",
    "    markeredgecolor=\"white\",\n",
    "    markersize=10,\n",
    " )\n",
    "# — — — — — — -Annotate Centroids — — — — — — — — — — — -\n",
    "plt.plot(\n",
    "    KMobj.cluster_centers_[:, 0],\n",
    "    KMobj.cluster_centers_[:, 1],\n",
    "    \"o\",\n",
    "    markerfacecolor=\"orange\",\n",
    "    markeredgecolor=\"k\",\n",
    "    markersize=10,\n",
    ")\n",
    "# — — — — — — -Add title to the plot — — — — — — — — — — — -\n",
    "plt.title(\"KMedoids clustering on Dummy Data- Medoids are represented in Orange.\", fontsize=14)"
   ]
  },
  {
   "cell_type": "markdown",
   "metadata": {},
   "source": [
    "https://towardsdatascience.com/k-medoid-clustering-pam-algorithm-in-python-with-solved-example-c0dcb35b3f46"
   ]
  }
 ],
 "metadata": {
  "interpreter": {
   "hash": "369f2c481f4da34e4445cda3fffd2e751bd1c4d706f27375911949ba6bb62e1c"
  },
  "kernelspec": {
   "display_name": "Python 3.10.2 64-bit",
   "language": "python",
   "name": "python3"
  },
  "language_info": {
   "codemirror_mode": {
    "name": "ipython",
    "version": 3
   },
   "file_extension": ".py",
   "mimetype": "text/x-python",
   "name": "python",
   "nbconvert_exporter": "python",
   "pygments_lexer": "ipython3",
   "version": "3.10.2"
  },
  "orig_nbformat": 4
 },
 "nbformat": 4,
 "nbformat_minor": 2
}
